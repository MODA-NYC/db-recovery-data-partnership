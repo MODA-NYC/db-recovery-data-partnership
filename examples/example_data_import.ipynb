{
  "nbformat": 4,
  "nbformat_minor": 0,
  "metadata": {
    "colab": {
      "name": "Untitled1.ipynb",
      "provenance": [],
      "collapsed_sections": []
    },
    "kernelspec": {
      "name": "python3",
      "display_name": "Python 3"
    }
  },
  "cells": [
    {
      "cell_type": "markdown",
      "metadata": {
        "id": "mJuRyjXh_L96",
        "colab_type": "text"
      },
      "source": [
        "# 📊 Data Import Example Using **`rdptools`**"
      ]
    },
    {
      "cell_type": "markdown",
      "metadata": {
        "id": "6Ip9KuuB_hmY",
        "colab_type": "text"
      },
      "source": [
        "## 1. install **rdptools**"
      ]
    },
    {
      "cell_type": "code",
      "metadata": {
        "id": "oKU9e1iks3qd",
        "colab_type": "code",
        "colab": {
          "base_uri": "https://localhost:8080/",
          "height": 408
        },
        "outputId": "0411f8df-863e-49bb-9b9b-37fbf6a67e46"
      },
      "source": [
        "! pip install rdptools==0.1.5"
      ],
      "execution_count": 5,
      "outputs": [
        {
          "output_type": "stream",
          "text": [
            "Collecting rdptools==0.1.5\n",
            "  Downloading https://files.pythonhosted.org/packages/db/13/7715808a864a86dfc7e3d8f15388eeb6a108e6feaa2fe6ba82b8b4913d55/rdptools-0.1.5-py3-none-any.whl\n",
            "Requirement already satisfied: pandas in /usr/local/lib/python3.6/dist-packages (from rdptools==0.1.5) (1.0.5)\n",
            "Requirement already satisfied: office365-rest-client==2.2.0 in /usr/local/lib/python3.6/dist-packages (from rdptools==0.1.5) (2.2.0)\n",
            "Requirement already satisfied: numpy>=1.13.3 in /usr/local/lib/python3.6/dist-packages (from pandas->rdptools==0.1.5) (1.18.5)\n",
            "Requirement already satisfied: pytz>=2017.2 in /usr/local/lib/python3.6/dist-packages (from pandas->rdptools==0.1.5) (2018.9)\n",
            "Requirement already satisfied: python-dateutil>=2.6.1 in /usr/local/lib/python3.6/dist-packages (from pandas->rdptools==0.1.5) (2.8.1)\n",
            "Requirement already satisfied: requests in /usr/local/lib/python3.6/dist-packages (from office365-rest-client==2.2.0->rdptools==0.1.5) (2.23.0)\n",
            "Requirement already satisfied: adal in /usr/local/lib/python3.6/dist-packages (from office365-rest-client==2.2.0->rdptools==0.1.5) (1.2.4)\n",
            "Requirement already satisfied: six>=1.5 in /usr/local/lib/python3.6/dist-packages (from python-dateutil>=2.6.1->pandas->rdptools==0.1.5) (1.15.0)\n",
            "Requirement already satisfied: urllib3!=1.25.0,!=1.25.1,<1.26,>=1.21.1 in /usr/local/lib/python3.6/dist-packages (from requests->office365-rest-client==2.2.0->rdptools==0.1.5) (1.24.3)\n",
            "Requirement already satisfied: idna<3,>=2.5 in /usr/local/lib/python3.6/dist-packages (from requests->office365-rest-client==2.2.0->rdptools==0.1.5) (2.10)\n",
            "Requirement already satisfied: certifi>=2017.4.17 in /usr/local/lib/python3.6/dist-packages (from requests->office365-rest-client==2.2.0->rdptools==0.1.5) (2020.6.20)\n",
            "Requirement already satisfied: chardet<4,>=3.0.2 in /usr/local/lib/python3.6/dist-packages (from requests->office365-rest-client==2.2.0->rdptools==0.1.5) (3.0.4)\n",
            "Requirement already satisfied: PyJWT>=1.0.0 in /usr/local/lib/python3.6/dist-packages (from adal->office365-rest-client==2.2.0->rdptools==0.1.5) (1.7.1)\n",
            "Requirement already satisfied: cryptography>=1.1.0 in /usr/local/lib/python3.6/dist-packages (from adal->office365-rest-client==2.2.0->rdptools==0.1.5) (3.1)\n",
            "Requirement already satisfied: cffi!=1.11.3,>=1.8 in /usr/local/lib/python3.6/dist-packages (from cryptography>=1.1.0->adal->office365-rest-client==2.2.0->rdptools==0.1.5) (1.14.2)\n",
            "Requirement already satisfied: pycparser in /usr/local/lib/python3.6/dist-packages (from cffi!=1.11.3,>=1.8->cryptography>=1.1.0->adal->office365-rest-client==2.2.0->rdptools==0.1.5) (2.20)\n",
            "Installing collected packages: rdptools\n",
            "  Found existing installation: rdptools 0.1.4\n",
            "    Uninstalling rdptools-0.1.4:\n",
            "      Successfully uninstalled rdptools-0.1.4\n",
            "Successfully installed rdptools-0.1.5\n"
          ],
          "name": "stdout"
        }
      ]
    },
    {
      "cell_type": "markdown",
      "metadata": {
        "id": "LwVxjXzK_oEB",
        "colab_type": "text"
      },
      "source": [
        "### 2. Authentication"
      ]
    },
    {
      "cell_type": "code",
      "metadata": {
        "id": "RUoZW8Wbs4jf",
        "colab_type": "code",
        "colab": {}
      },
      "source": [
        "from rdptools.core import Site\n",
        "site_url = \"https://<organization>.sharepoint.com/<site>\"\n",
        "username = \"<your>@<email>.<provider>\"\n",
        "password = \"<your password>\"\n",
        "rdp=Site(site_url, username, password)"
      ],
      "execution_count": 6,
      "outputs": []
    },
    {
      "cell_type": "markdown",
      "metadata": {
        "id": "P3y4gU6g_u-1",
        "colab_type": "text"
      },
      "source": [
        "## 3. Create access to a data partner"
      ]
    },
    {
      "cell_type": "code",
      "metadata": {
        "id": "PKgE0YistEtl",
        "colab_type": "code",
        "colab": {}
      },
      "source": [
        "betanyc = rdp.create_partner('betanyc')"
      ],
      "execution_count": 7,
      "outputs": []
    },
    {
      "cell_type": "markdown",
      "metadata": {
        "id": "DcGIIAyl_3g-",
        "colab_type": "text"
      },
      "source": [
        "## 4. Check available data versions"
      ]
    },
    {
      "cell_type": "code",
      "metadata": {
        "id": "02I7xuBAtG9w",
        "colab_type": "code",
        "colab": {
          "base_uri": "https://localhost:8080/",
          "height": 221
        },
        "outputId": "cfab384f-9de8-452b-cf50-c50ac8db5c82"
      },
      "source": [
        "betanyc.list_versions()"
      ],
      "execution_count": null,
      "outputs": [
        {
          "output_type": "execute_result",
          "data": {
            "text/plain": [
              "[{'relativeUrl': '/sites/RDPDataRepository/betanyc/2020-09-09',\n",
              "  'version': '2020-09-09'},\n",
              " {'relativeUrl': '/sites/RDPDataRepository/betanyc/2020-09-10',\n",
              "  'version': '2020-09-10'},\n",
              " {'relativeUrl': '/sites/RDPDataRepository/betanyc/2020-09-13',\n",
              "  'version': '2020-09-13'},\n",
              " {'relativeUrl': '/sites/RDPDataRepository/betanyc/2020-09-08',\n",
              "  'version': '2020-09-08'},\n",
              " {'relativeUrl': '/sites/RDPDataRepository/betanyc/latest',\n",
              "  'version': 'latest'},\n",
              " {'relativeUrl': '/sites/RDPDataRepository/betanyc/2020-09-11',\n",
              "  'version': '2020-09-11'}]"
            ]
          },
          "metadata": {
            "tags": []
          },
          "execution_count": 4
        }
      ]
    },
    {
      "cell_type": "markdown",
      "metadata": {
        "id": "Chax6zLw_8_m",
        "colab_type": "text"
      },
      "source": [
        "## 5. Check available data files"
      ]
    },
    {
      "cell_type": "code",
      "metadata": {
        "id": "7Yyuev63tJXW",
        "colab_type": "code",
        "colab": {
          "base_uri": "https://localhost:8080/",
          "height": 85
        },
        "outputId": "3509ccc2-1b64-48ff-c77d-5644e63836eb"
      },
      "source": [
        "betanyc.list_files()"
      ],
      "execution_count": 8,
      "outputs": [
        {
          "output_type": "execute_result",
          "data": {
            "text/plain": [
              "[{'fileName': 'version.txt',\n",
              "  'relativeUrl': '/sites/RDPDataRepository/betanyc/latest/version.txt'},\n",
              " {'fileName': 'betanyc.csv',\n",
              "  'relativeUrl': '/sites/RDPDataRepository/betanyc/latest/betanyc.csv'}]"
            ]
          },
          "metadata": {
            "tags": []
          },
          "execution_count": 8
        }
      ]
    },
    {
      "cell_type": "markdown",
      "metadata": {
        "id": "MKvPgKbf_7rf",
        "colab_type": "text"
      },
      "source": [
        "by default, it would list the latest files. you can also specify which version you would like to check"
      ]
    },
    {
      "cell_type": "code",
      "metadata": {
        "id": "bvbQTJEcAPrv",
        "colab_type": "code",
        "colab": {
          "base_uri": "https://localhost:8080/",
          "height": 85
        },
        "outputId": "c3b700f5-c0c2-49b0-dbc8-ccf118bc3b6e"
      },
      "source": [
        "betanyc.list_files(version='2020-09-11')"
      ],
      "execution_count": 9,
      "outputs": [
        {
          "output_type": "execute_result",
          "data": {
            "text/plain": [
              "[{'fileName': 'version.txt',\n",
              "  'relativeUrl': '/sites/RDPDataRepository/betanyc/2020-09-11/version.txt'},\n",
              " {'fileName': 'betanyc.csv',\n",
              "  'relativeUrl': '/sites/RDPDataRepository/betanyc/2020-09-11/betanyc.csv'}]"
            ]
          },
          "metadata": {
            "tags": []
          },
          "execution_count": 9
        }
      ]
    },
    {
      "cell_type": "markdown",
      "metadata": {
        "id": "hji2Dwe1AUTI",
        "colab_type": "text"
      },
      "source": [
        "## 6. Read a file into a pandas dataframe"
      ]
    },
    {
      "cell_type": "code",
      "metadata": {
        "id": "byIpeqz_ASq-",
        "colab_type": "code",
        "colab": {
          "base_uri": "https://localhost:8080/",
          "height": 581
        },
        "outputId": "d19c69bd-a76b-4c91-dd98-d06ccfd99e2e"
      },
      "source": [
        "df = betanyc.load_by_fileName('betanyc.csv') #default version is \"latest\"\n",
        "df.head()"
      ],
      "execution_count": 10,
      "outputs": [
        {
          "output_type": "execute_result",
          "data": {
            "text/html": [
              "<div>\n",
              "<style scoped>\n",
              "    .dataframe tbody tr th:only-of-type {\n",
              "        vertical-align: middle;\n",
              "    }\n",
              "\n",
              "    .dataframe tbody tr th {\n",
              "        vertical-align: top;\n",
              "    }\n",
              "\n",
              "    .dataframe thead th {\n",
              "        text-align: right;\n",
              "    }\n",
              "</style>\n",
              "<table border=\"1\" class=\"dataframe\">\n",
              "  <thead>\n",
              "    <tr style=\"text-align: right;\">\n",
              "      <th></th>\n",
              "      <th>name</th>\n",
              "      <th>category</th>\n",
              "      <th>subcategory</th>\n",
              "      <th>betanyc_category</th>\n",
              "      <th>betanyc_subcategory</th>\n",
              "      <th>phone</th>\n",
              "      <th>address</th>\n",
              "      <th>zipcode</th>\n",
              "      <th>borough</th>\n",
              "      <th>nta_code</th>\n",
              "      <th>nta_name</th>\n",
              "      <th>status</th>\n",
              "      <th>pickup</th>\n",
              "      <th>delivery</th>\n",
              "      <th>hours</th>\n",
              "      <th>special_hours</th>\n",
              "      <th>black_owned</th>\n",
              "      <th>mwbe</th>\n",
              "      <th>source</th>\n",
              "      <th>last_updated</th>\n",
              "      <th>latitude</th>\n",
              "      <th>longitude</th>\n",
              "      <th>geom</th>\n",
              "      <th>geomsource</th>\n",
              "    </tr>\n",
              "  </thead>\n",
              "  <tbody>\n",
              "    <tr>\n",
              "      <th>0</th>\n",
              "      <td>10th St &amp; Avenue C Liquor</td>\n",
              "      <td>Food and beverage</td>\n",
              "      <td>Alcohol and bars</td>\n",
              "      <td>Shops &amp; Services</td>\n",
              "      <td>Wine</td>\n",
              "      <td>212-995-8200</td>\n",
              "      <td>159 Avenue C, New York, NY 10009</td>\n",
              "      <td>10009.0</td>\n",
              "      <td>MN</td>\n",
              "      <td>MN28</td>\n",
              "      <td>Lower East Side</td>\n",
              "      <td>open</td>\n",
              "      <td>yes</td>\n",
              "      <td>yes</td>\n",
              "      <td>NaN</td>\n",
              "      <td>NaN</td>\n",
              "      <td>NaN</td>\n",
              "      <td>NaN</td>\n",
              "      <td>NaN</td>\n",
              "      <td>2020-09-02 04:00:00</td>\n",
              "      <td>40.725883</td>\n",
              "      <td>-73.977873</td>\n",
              "      <td>0101000020E61000000DA9A278957E52C077DCF0BBE95C...</td>\n",
              "      <td>geosupport</td>\n",
              "    </tr>\n",
              "    <tr>\n",
              "      <th>1</th>\n",
              "      <td>11B Express</td>\n",
              "      <td>Food and beverage</td>\n",
              "      <td>Restaurant</td>\n",
              "      <td>Restaurants</td>\n",
              "      <td>Pizza</td>\n",
              "      <td>(212) 388-9811</td>\n",
              "      <td>174 Avenue B, New York, NY 10009</td>\n",
              "      <td>10009.0</td>\n",
              "      <td>MN</td>\n",
              "      <td>MN22</td>\n",
              "      <td>East Village</td>\n",
              "      <td>open</td>\n",
              "      <td>yes</td>\n",
              "      <td>yes</td>\n",
              "      <td>12:00 AM-12:00 PM</td>\n",
              "      <td>NaN</td>\n",
              "      <td>NaN</td>\n",
              "      <td>NaN</td>\n",
              "      <td>NaN</td>\n",
              "      <td>2020-09-02 04:00:00</td>\n",
              "      <td>40.727451</td>\n",
              "      <td>-73.979741</td>\n",
              "      <td>0101000020E610000039639813B47E52C0A438471D1D5D...</td>\n",
              "      <td>geosupport</td>\n",
              "    </tr>\n",
              "    <tr>\n",
              "      <th>2</th>\n",
              "      <td>29B Teahouse</td>\n",
              "      <td>Food and beverage</td>\n",
              "      <td>Restaurant</td>\n",
              "      <td>Restaurants</td>\n",
              "      <td>Tea Shop</td>\n",
              "      <td>646-864-0093</td>\n",
              "      <td>29 Avenue B, New York, NY 10009</td>\n",
              "      <td>10009.0</td>\n",
              "      <td>MN</td>\n",
              "      <td>MN28</td>\n",
              "      <td>Lower East Side</td>\n",
              "      <td>open</td>\n",
              "      <td>yes</td>\n",
              "      <td>no</td>\n",
              "      <td>5:00 PM-1:00 PM</td>\n",
              "      <td>NaN</td>\n",
              "      <td>NaN</td>\n",
              "      <td>yes</td>\n",
              "      <td>NaN</td>\n",
              "      <td>2020-09-12 04:00:00</td>\n",
              "      <td>40.722395</td>\n",
              "      <td>-73.982903</td>\n",
              "      <td>0101000020E6100000FA08FCE1E77E52C09FE57970775C...</td>\n",
              "      <td>geosupport</td>\n",
              "    </tr>\n",
              "    <tr>\n",
              "      <th>3</th>\n",
              "      <td>5C Cultural Center &amp; Cafe</td>\n",
              "      <td>Food and beverage</td>\n",
              "      <td>Restaurant</td>\n",
              "      <td>Restaurants</td>\n",
              "      <td>Cafe</td>\n",
              "      <td>917-261-5249</td>\n",
              "      <td>68 Avenue C, New York, NY 10009</td>\n",
              "      <td>10009.0</td>\n",
              "      <td>MN</td>\n",
              "      <td>MN28</td>\n",
              "      <td>Lower East Side</td>\n",
              "      <td>closed</td>\n",
              "      <td>no</td>\n",
              "      <td>no</td>\n",
              "      <td>NaN</td>\n",
              "      <td>NaN</td>\n",
              "      <td>NaN</td>\n",
              "      <td>yes</td>\n",
              "      <td>NaN</td>\n",
              "      <td>2020-06-02 04:00:00</td>\n",
              "      <td>40.722680</td>\n",
              "      <td>-73.979548</td>\n",
              "      <td>0101000020E61000002E3718EAB07E52C094BC3AC7805C...</td>\n",
              "      <td>geosupport</td>\n",
              "    </tr>\n",
              "    <tr>\n",
              "      <th>4</th>\n",
              "      <td>787 Coffee</td>\n",
              "      <td>Food and beverage</td>\n",
              "      <td>Restaurant</td>\n",
              "      <td>Restaurants</td>\n",
              "      <td>Cafe</td>\n",
              "      <td>1-888-629-1004</td>\n",
              "      <td>131 E. 7th Street, New York, NY 10009</td>\n",
              "      <td>10009.0</td>\n",
              "      <td>MN</td>\n",
              "      <td>MN22</td>\n",
              "      <td>East Village</td>\n",
              "      <td>open</td>\n",
              "      <td>yes</td>\n",
              "      <td>NaN</td>\n",
              "      <td>10:00 PM-10:00 AM</td>\n",
              "      <td>NaN</td>\n",
              "      <td>NaN</td>\n",
              "      <td>NaN</td>\n",
              "      <td>NaN</td>\n",
              "      <td>2020-07-27 04:00:00</td>\n",
              "      <td>40.726260</td>\n",
              "      <td>-73.983747</td>\n",
              "      <td>0101000020E61000007022FAB5F57E52C04D327216F65C...</td>\n",
              "      <td>geosupport</td>\n",
              "    </tr>\n",
              "  </tbody>\n",
              "</table>\n",
              "</div>"
            ],
            "text/plain": [
              "                        name  ...  geomsource\n",
              "0  10th St & Avenue C Liquor  ...  geosupport\n",
              "1                11B Express  ...  geosupport\n",
              "2               29B Teahouse  ...  geosupport\n",
              "3  5C Cultural Center & Cafe  ...  geosupport\n",
              "4                 787 Coffee  ...  geosupport\n",
              "\n",
              "[5 rows x 24 columns]"
            ]
          },
          "metadata": {
            "tags": []
          },
          "execution_count": 10
        }
      ]
    }
  ]
}